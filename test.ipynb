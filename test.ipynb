{
 "cells": [
  {
   "cell_type": "code",
   "execution_count": 3,
   "metadata": {},
   "outputs": [
    {
     "name": "stderr",
     "output_type": "stream",
     "text": [
      "WARNING:root:Need to pip install caveclient to repair mesh with pychunkedgraph\n",
      "WARNING:root:Need to pip install caveclient to use dataset_name parameters\n"
     ]
    }
   ],
   "source": [
    "import l2label"
   ]
  },
  {
   "cell_type": "code",
   "execution_count": null,
   "metadata": {},
   "outputs": [
    {
     "name": "stdout",
     "output_type": "stream",
     "text": [
      "\u001b[31mInit signature:\u001b[39m\n",
      "l2label.compartments.AxonLabel(\n",
      "    config: Union[dict, str, NoneType] = \u001b[38;5;28;01mNone\u001b[39;00m,\n",
      "    downstream_hops: Optional[int] = \u001b[38;5;28;01mNone\u001b[39;00m,\n",
      "    upstream_hops: Optional[int] = \u001b[38;5;28;01mNone\u001b[39;00m,\n",
      "    bidirectional_hops: Optional[int] = \u001b[38;5;28;01mNone\u001b[39;00m,\n",
      "    spread_alpha: Optional[float] = \u001b[38;5;28;01mNone\u001b[39;00m,\n",
      "    model: Optional[xgboost.sklearn.XGBClassifier] = \u001b[38;5;28;01mNone\u001b[39;00m,\n",
      "    feature_columns: Optional[list] = \u001b[38;5;28;01mNone\u001b[39;00m,\n",
      ")\n",
      "\u001b[31mDocstring:\u001b[39m      <no docstring>\n",
      "\u001b[31mFile:\u001b[39m           ~/Work/Code/l2label/src/l2label/compartments.py\n",
      "\u001b[31mType:\u001b[39m           type\n",
      "\u001b[31mSubclasses:\u001b[39m     "
     ]
    }
   ],
   "source": []
  },
  {
   "cell_type": "code",
   "execution_count": null,
   "metadata": {},
   "outputs": [],
   "source": []
  }
 ],
 "metadata": {
  "kernelspec": {
   "display_name": ".venv",
   "language": "python",
   "name": "python3"
  },
  "language_info": {
   "codemirror_mode": {
    "name": "ipython",
    "version": 3
   },
   "file_extension": ".py",
   "mimetype": "text/x-python",
   "name": "python",
   "nbconvert_exporter": "python",
   "pygments_lexer": "ipython3",
   "version": "3.12.7"
  }
 },
 "nbformat": 4,
 "nbformat_minor": 2
}
